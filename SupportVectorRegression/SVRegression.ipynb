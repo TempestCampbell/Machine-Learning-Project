{
 "cells": [
  {
   "cell_type": "code",
   "execution_count": 312,
   "metadata": {},
   "outputs": [],
   "source": [
    "%matplotlib inline"
   ]
  },
  {
   "cell_type": "code",
   "execution_count": 313,
   "metadata": {},
   "outputs": [],
   "source": [
    "import numpy as np\n",
    "from sklearn.svm import SVR\n",
    "import matplotlib.pyplot as plt\n",
    "import pandas as pd\n",
    "from sklearn.model_selection import StratifiedShuffleSplit, GridSearchCV\n",
    "from sklearn.metrics import accuracy_score"
   ]
  },
  {
   "cell_type": "code",
   "execution_count": 314,
   "metadata": {},
   "outputs": [
    {
     "data": {
      "text/plain": [
       "'2.4.0'"
      ]
     },
     "execution_count": 314,
     "metadata": {},
     "output_type": "execute_result"
    }
   ],
   "source": [
    "import tensorflow\n",
    "tensorflow.keras.__version__"
   ]
  },
  {
   "cell_type": "code",
   "execution_count": 315,
   "metadata": {},
   "outputs": [
    {
     "data": {
      "text/html": [
       "<div>\n",
       "<style scoped>\n",
       "    .dataframe tbody tr th:only-of-type {\n",
       "        vertical-align: middle;\n",
       "    }\n",
       "\n",
       "    .dataframe tbody tr th {\n",
       "        vertical-align: top;\n",
       "    }\n",
       "\n",
       "    .dataframe thead th {\n",
       "        text-align: right;\n",
       "    }\n",
       "</style>\n",
       "<table border=\"1\" class=\"dataframe\">\n",
       "  <thead>\n",
       "    <tr style=\"text-align: right;\">\n",
       "      <th></th>\n",
       "      <th>Unnamed: 0</th>\n",
       "      <th>index</th>\n",
       "      <th>winery</th>\n",
       "      <th>vintage</th>\n",
       "      <th>points</th>\n",
       "      <th>cities</th>\n",
       "      <th>MarchLowTemp</th>\n",
       "      <th>MarchHighTemp</th>\n",
       "      <th>MarchAvgTemp</th>\n",
       "      <th>MarchPrecip</th>\n",
       "      <th>...</th>\n",
       "      <th>JulyAvgTemp</th>\n",
       "      <th>JulyPrecip</th>\n",
       "      <th>JulyCloudiness</th>\n",
       "      <th>JulyHumidity</th>\n",
       "      <th>AugLowTemp</th>\n",
       "      <th>AugHighTemp</th>\n",
       "      <th>AugAvgTemp</th>\n",
       "      <th>AugPrecip</th>\n",
       "      <th>AugCloudiness</th>\n",
       "      <th>AugHumidity</th>\n",
       "    </tr>\n",
       "  </thead>\n",
       "  <tbody>\n",
       "    <tr>\n",
       "      <th>0</th>\n",
       "      <td>261</td>\n",
       "      <td>509</td>\n",
       "      <td>Fenestra</td>\n",
       "      <td>2009</td>\n",
       "      <td>81</td>\n",
       "      <td>Livermore</td>\n",
       "      <td>42.096774</td>\n",
       "      <td>63.290323</td>\n",
       "      <td>55.290323</td>\n",
       "      <td>3.9</td>\n",
       "      <td>...</td>\n",
       "      <td>78.935484</td>\n",
       "      <td>0.0</td>\n",
       "      <td>4.000000</td>\n",
       "      <td>48.935484</td>\n",
       "      <td>56.000000</td>\n",
       "      <td>89.516129</td>\n",
       "      <td>78.548387</td>\n",
       "      <td>0.0</td>\n",
       "      <td>6.967742</td>\n",
       "      <td>51.451613</td>\n",
       "    </tr>\n",
       "    <tr>\n",
       "      <th>1</th>\n",
       "      <td>461</td>\n",
       "      <td>766</td>\n",
       "      <td>Peterson</td>\n",
       "      <td>2009</td>\n",
       "      <td>81</td>\n",
       "      <td>Healdsburg</td>\n",
       "      <td>41.548387</td>\n",
       "      <td>60.677419</td>\n",
       "      <td>53.193548</td>\n",
       "      <td>5.7</td>\n",
       "      <td>...</td>\n",
       "      <td>75.903226</td>\n",
       "      <td>0.0</td>\n",
       "      <td>2.580645</td>\n",
       "      <td>52.064516</td>\n",
       "      <td>55.451613</td>\n",
       "      <td>82.838710</td>\n",
       "      <td>73.935484</td>\n",
       "      <td>0.1</td>\n",
       "      <td>4.967742</td>\n",
       "      <td>54.612903</td>\n",
       "    </tr>\n",
       "    <tr>\n",
       "      <th>2</th>\n",
       "      <td>481</td>\n",
       "      <td>786</td>\n",
       "      <td>Kenwood</td>\n",
       "      <td>2011</td>\n",
       "      <td>81</td>\n",
       "      <td>Kenwood</td>\n",
       "      <td>36.645161</td>\n",
       "      <td>57.483871</td>\n",
       "      <td>50.096774</td>\n",
       "      <td>12.6</td>\n",
       "      <td>...</td>\n",
       "      <td>74.290323</td>\n",
       "      <td>0.0</td>\n",
       "      <td>5.806452</td>\n",
       "      <td>62.419355</td>\n",
       "      <td>50.387097</td>\n",
       "      <td>83.677419</td>\n",
       "      <td>73.161290</td>\n",
       "      <td>0.0</td>\n",
       "      <td>1.354839</td>\n",
       "      <td>59.774194</td>\n",
       "    </tr>\n",
       "    <tr>\n",
       "      <th>3</th>\n",
       "      <td>873</td>\n",
       "      <td>1396</td>\n",
       "      <td>Adelaida</td>\n",
       "      <td>2009</td>\n",
       "      <td>81</td>\n",
       "      <td>Paso Robles</td>\n",
       "      <td>41.870968</td>\n",
       "      <td>67.451613</td>\n",
       "      <td>57.741935</td>\n",
       "      <td>1.1</td>\n",
       "      <td>...</td>\n",
       "      <td>85.806452</td>\n",
       "      <td>0.0</td>\n",
       "      <td>2.387097</td>\n",
       "      <td>32.516129</td>\n",
       "      <td>57.935484</td>\n",
       "      <td>92.161290</td>\n",
       "      <td>81.935484</td>\n",
       "      <td>0.1</td>\n",
       "      <td>4.516129</td>\n",
       "      <td>36.806452</td>\n",
       "    </tr>\n",
       "    <tr>\n",
       "      <th>4</th>\n",
       "      <td>1192</td>\n",
       "      <td>2075</td>\n",
       "      <td>Dunning Vineyards</td>\n",
       "      <td>2011</td>\n",
       "      <td>81</td>\n",
       "      <td>Paso Robles</td>\n",
       "      <td>39.870968</td>\n",
       "      <td>61.193548</td>\n",
       "      <td>53.387097</td>\n",
       "      <td>6.3</td>\n",
       "      <td>...</td>\n",
       "      <td>75.580645</td>\n",
       "      <td>0.1</td>\n",
       "      <td>1.612903</td>\n",
       "      <td>51.709677</td>\n",
       "      <td>59.354839</td>\n",
       "      <td>84.903226</td>\n",
       "      <td>77.258065</td>\n",
       "      <td>0.0</td>\n",
       "      <td>2.548387</td>\n",
       "      <td>45.419355</td>\n",
       "    </tr>\n",
       "  </tbody>\n",
       "</table>\n",
       "<p>5 rows × 42 columns</p>\n",
       "</div>"
      ],
      "text/plain": [
       "   Unnamed: 0  index             winery  vintage  points       cities  \\\n",
       "0         261    509           Fenestra     2009      81    Livermore   \n",
       "1         461    766           Peterson     2009      81   Healdsburg   \n",
       "2         481    786            Kenwood     2011      81      Kenwood   \n",
       "3         873   1396           Adelaida     2009      81  Paso Robles   \n",
       "4        1192   2075  Dunning Vineyards     2011      81  Paso Robles   \n",
       "\n",
       "   MarchLowTemp  MarchHighTemp  MarchAvgTemp  MarchPrecip  ...  JulyAvgTemp  \\\n",
       "0     42.096774      63.290323     55.290323          3.9  ...    78.935484   \n",
       "1     41.548387      60.677419     53.193548          5.7  ...    75.903226   \n",
       "2     36.645161      57.483871     50.096774         12.6  ...    74.290323   \n",
       "3     41.870968      67.451613     57.741935          1.1  ...    85.806452   \n",
       "4     39.870968      61.193548     53.387097          6.3  ...    75.580645   \n",
       "\n",
       "   JulyPrecip  JulyCloudiness  JulyHumidity  AugLowTemp  AugHighTemp  \\\n",
       "0         0.0        4.000000     48.935484   56.000000    89.516129   \n",
       "1         0.0        2.580645     52.064516   55.451613    82.838710   \n",
       "2         0.0        5.806452     62.419355   50.387097    83.677419   \n",
       "3         0.0        2.387097     32.516129   57.935484    92.161290   \n",
       "4         0.1        1.612903     51.709677   59.354839    84.903226   \n",
       "\n",
       "   AugAvgTemp  AugPrecip  AugCloudiness  AugHumidity  \n",
       "0   78.548387        0.0       6.967742    51.451613  \n",
       "1   73.935484        0.1       4.967742    54.612903  \n",
       "2   73.161290        0.0       1.354839    59.774194  \n",
       "3   81.935484        0.1       4.516129    36.806452  \n",
       "4   77.258065        0.0       2.548387    45.419355  \n",
       "\n",
       "[5 rows x 42 columns]"
      ]
     },
     "execution_count": 315,
     "metadata": {},
     "output_type": "execute_result"
    }
   ],
   "source": [
    "weather = pd.read_csv('WeatherDataPull/dataLargerSet2.csv')\n",
    "weather.head()"
   ]
  },
  {
   "cell_type": "code",
   "execution_count": 316,
   "metadata": {},
   "outputs": [
    {
     "data": {
      "text/html": [
       "<div>\n",
       "<style scoped>\n",
       "    .dataframe tbody tr th:only-of-type {\n",
       "        vertical-align: middle;\n",
       "    }\n",
       "\n",
       "    .dataframe tbody tr th {\n",
       "        vertical-align: top;\n",
       "    }\n",
       "\n",
       "    .dataframe thead th {\n",
       "        text-align: right;\n",
       "    }\n",
       "</style>\n",
       "<table border=\"1\" class=\"dataframe\">\n",
       "  <thead>\n",
       "    <tr style=\"text-align: right;\">\n",
       "      <th></th>\n",
       "      <th>winery</th>\n",
       "      <th>vintage</th>\n",
       "      <th>points</th>\n",
       "      <th>cities</th>\n",
       "      <th>MarchLowTemp</th>\n",
       "      <th>MarchHighTemp</th>\n",
       "      <th>MarchAvgTemp</th>\n",
       "      <th>MarchPrecip</th>\n",
       "      <th>MarchCloudiness</th>\n",
       "      <th>MarchHumidity</th>\n",
       "      <th>...</th>\n",
       "      <th>JulyAvgTemp</th>\n",
       "      <th>JulyPrecip</th>\n",
       "      <th>JulyCloudiness</th>\n",
       "      <th>JulyHumidity</th>\n",
       "      <th>AugLowTemp</th>\n",
       "      <th>AugHighTemp</th>\n",
       "      <th>AugAvgTemp</th>\n",
       "      <th>AugPrecip</th>\n",
       "      <th>AugCloudiness</th>\n",
       "      <th>AugHumidity</th>\n",
       "    </tr>\n",
       "  </thead>\n",
       "  <tbody>\n",
       "    <tr>\n",
       "      <th>0</th>\n",
       "      <td>Fenestra</td>\n",
       "      <td>2009</td>\n",
       "      <td>81</td>\n",
       "      <td>Livermore</td>\n",
       "      <td>42.096774</td>\n",
       "      <td>63.290323</td>\n",
       "      <td>55.290323</td>\n",
       "      <td>3.9</td>\n",
       "      <td>25.419355</td>\n",
       "      <td>74.322581</td>\n",
       "      <td>...</td>\n",
       "      <td>78.935484</td>\n",
       "      <td>0.0</td>\n",
       "      <td>4.000000</td>\n",
       "      <td>48.935484</td>\n",
       "      <td>56.000000</td>\n",
       "      <td>89.516129</td>\n",
       "      <td>78.548387</td>\n",
       "      <td>0.0</td>\n",
       "      <td>6.967742</td>\n",
       "      <td>51.451613</td>\n",
       "    </tr>\n",
       "    <tr>\n",
       "      <th>1</th>\n",
       "      <td>Peterson</td>\n",
       "      <td>2009</td>\n",
       "      <td>81</td>\n",
       "      <td>Healdsburg</td>\n",
       "      <td>41.548387</td>\n",
       "      <td>60.677419</td>\n",
       "      <td>53.193548</td>\n",
       "      <td>5.7</td>\n",
       "      <td>26.129032</td>\n",
       "      <td>70.935484</td>\n",
       "      <td>...</td>\n",
       "      <td>75.903226</td>\n",
       "      <td>0.0</td>\n",
       "      <td>2.580645</td>\n",
       "      <td>52.064516</td>\n",
       "      <td>55.451613</td>\n",
       "      <td>82.838710</td>\n",
       "      <td>73.935484</td>\n",
       "      <td>0.1</td>\n",
       "      <td>4.967742</td>\n",
       "      <td>54.612903</td>\n",
       "    </tr>\n",
       "    <tr>\n",
       "      <th>2</th>\n",
       "      <td>Kenwood</td>\n",
       "      <td>2011</td>\n",
       "      <td>81</td>\n",
       "      <td>Kenwood</td>\n",
       "      <td>36.645161</td>\n",
       "      <td>57.483871</td>\n",
       "      <td>50.096774</td>\n",
       "      <td>12.6</td>\n",
       "      <td>58.967742</td>\n",
       "      <td>86.354839</td>\n",
       "      <td>...</td>\n",
       "      <td>74.290323</td>\n",
       "      <td>0.0</td>\n",
       "      <td>5.806452</td>\n",
       "      <td>62.419355</td>\n",
       "      <td>50.387097</td>\n",
       "      <td>83.677419</td>\n",
       "      <td>73.161290</td>\n",
       "      <td>0.0</td>\n",
       "      <td>1.354839</td>\n",
       "      <td>59.774194</td>\n",
       "    </tr>\n",
       "    <tr>\n",
       "      <th>3</th>\n",
       "      <td>Adelaida</td>\n",
       "      <td>2009</td>\n",
       "      <td>81</td>\n",
       "      <td>Paso Robles</td>\n",
       "      <td>41.870968</td>\n",
       "      <td>67.451613</td>\n",
       "      <td>57.741935</td>\n",
       "      <td>1.1</td>\n",
       "      <td>16.064516</td>\n",
       "      <td>61.612903</td>\n",
       "      <td>...</td>\n",
       "      <td>85.806452</td>\n",
       "      <td>0.0</td>\n",
       "      <td>2.387097</td>\n",
       "      <td>32.516129</td>\n",
       "      <td>57.935484</td>\n",
       "      <td>92.161290</td>\n",
       "      <td>81.935484</td>\n",
       "      <td>0.1</td>\n",
       "      <td>4.516129</td>\n",
       "      <td>36.806452</td>\n",
       "    </tr>\n",
       "    <tr>\n",
       "      <th>4</th>\n",
       "      <td>Dunning Vineyards</td>\n",
       "      <td>2011</td>\n",
       "      <td>81</td>\n",
       "      <td>Paso Robles</td>\n",
       "      <td>39.870968</td>\n",
       "      <td>61.193548</td>\n",
       "      <td>53.387097</td>\n",
       "      <td>6.3</td>\n",
       "      <td>43.451613</td>\n",
       "      <td>79.354839</td>\n",
       "      <td>...</td>\n",
       "      <td>75.580645</td>\n",
       "      <td>0.1</td>\n",
       "      <td>1.612903</td>\n",
       "      <td>51.709677</td>\n",
       "      <td>59.354839</td>\n",
       "      <td>84.903226</td>\n",
       "      <td>77.258065</td>\n",
       "      <td>0.0</td>\n",
       "      <td>2.548387</td>\n",
       "      <td>45.419355</td>\n",
       "    </tr>\n",
       "  </tbody>\n",
       "</table>\n",
       "<p>5 rows × 40 columns</p>\n",
       "</div>"
      ],
      "text/plain": [
       "              winery  vintage  points       cities  MarchLowTemp  \\\n",
       "0           Fenestra     2009      81    Livermore     42.096774   \n",
       "1           Peterson     2009      81   Healdsburg     41.548387   \n",
       "2            Kenwood     2011      81      Kenwood     36.645161   \n",
       "3           Adelaida     2009      81  Paso Robles     41.870968   \n",
       "4  Dunning Vineyards     2011      81  Paso Robles     39.870968   \n",
       "\n",
       "   MarchHighTemp  MarchAvgTemp  MarchPrecip  MarchCloudiness  MarchHumidity  \\\n",
       "0      63.290323     55.290323          3.9        25.419355      74.322581   \n",
       "1      60.677419     53.193548          5.7        26.129032      70.935484   \n",
       "2      57.483871     50.096774         12.6        58.967742      86.354839   \n",
       "3      67.451613     57.741935          1.1        16.064516      61.612903   \n",
       "4      61.193548     53.387097          6.3        43.451613      79.354839   \n",
       "\n",
       "   ...  JulyAvgTemp  JulyPrecip  JulyCloudiness  JulyHumidity  AugLowTemp  \\\n",
       "0  ...    78.935484         0.0        4.000000     48.935484   56.000000   \n",
       "1  ...    75.903226         0.0        2.580645     52.064516   55.451613   \n",
       "2  ...    74.290323         0.0        5.806452     62.419355   50.387097   \n",
       "3  ...    85.806452         0.0        2.387097     32.516129   57.935484   \n",
       "4  ...    75.580645         0.1        1.612903     51.709677   59.354839   \n",
       "\n",
       "   AugHighTemp  AugAvgTemp  AugPrecip  AugCloudiness  AugHumidity  \n",
       "0    89.516129   78.548387        0.0       6.967742    51.451613  \n",
       "1    82.838710   73.935484        0.1       4.967742    54.612903  \n",
       "2    83.677419   73.161290        0.0       1.354839    59.774194  \n",
       "3    92.161290   81.935484        0.1       4.516129    36.806452  \n",
       "4    84.903226   77.258065        0.0       2.548387    45.419355  \n",
       "\n",
       "[5 rows x 40 columns]"
      ]
     },
     "execution_count": 316,
     "metadata": {},
     "output_type": "execute_result"
    }
   ],
   "source": [
    "weatherClean=weather.drop([\"Unnamed: 0\", \"index\"], axis=1)\n",
    "weatherClean.head()"
   ]
  },
  {
   "cell_type": "code",
   "execution_count": 317,
   "metadata": {},
   "outputs": [],
   "source": [
    "# Data Pre-Processing"
   ]
  },
  {
   "cell_type": "code",
   "execution_count": 318,
   "metadata": {},
   "outputs": [
    {
     "data": {
      "text/plain": [
       "Index(['winery', 'vintage', 'points', 'cities', 'MarchLowTemp',\n",
       "       'MarchHighTemp', 'MarchAvgTemp', 'MarchPrecip', 'MarchCloudiness',\n",
       "       'MarchHumidity', 'AprilLowTemp', 'AprilHighTemp', 'AprilAvgTemp',\n",
       "       'AprilPrecip', 'AprilCloudiness', 'AprilHumidity', 'MayLowTemp',\n",
       "       'MayHighTemp', 'MayAvgTemp', 'MayPrecip', 'MayCloudiness',\n",
       "       'MayHumidity', 'JuneLowTemp', 'JuneHighTemp', 'JuneAvgTemp',\n",
       "       'JunePrecip', 'JuneCloudiness', 'JuneHumidity', 'JulyLowTemp',\n",
       "       'JulyHighTemp', 'JulyAvgTemp', 'JulyPrecip', 'JulyCloudiness',\n",
       "       'JulyHumidity', 'AugLowTemp', 'AugHighTemp', 'AugAvgTemp', 'AugPrecip',\n",
       "       'AugCloudiness', 'AugHumidity'],\n",
       "      dtype='object')"
      ]
     },
     "execution_count": 318,
     "metadata": {},
     "output_type": "execute_result"
    }
   ],
   "source": [
    "weatherClean.columns"
   ]
  },
  {
   "cell_type": "code",
   "execution_count": 319,
   "metadata": {},
   "outputs": [],
   "source": [
    "weatherCleandf = weatherClean.drop(['winery', 'vintage', 'cities'], axis=1)"
   ]
  },
  {
   "cell_type": "code",
   "execution_count": 320,
   "metadata": {},
   "outputs": [],
   "source": [
    "X = weatherCleandf.drop(['points'], axis=1).values.astype(float)\n",
    "y = weatherCleandf['points'].values.astype(float)"
   ]
  },
  {
   "cell_type": "code",
   "execution_count": 321,
   "metadata": {},
   "outputs": [],
   "source": [
    "# Feature Scaling\n",
    "from sklearn.preprocessing import StandardScaler\n",
    "sc_X = StandardScaler()\n",
    "sc_y = StandardScaler()\n",
    "X = sc_X.fit_transform(X)\n",
    "y = sc_y.fit_transform(y.reshape(-1,1))"
   ]
  },
  {
   "cell_type": "code",
   "execution_count": 322,
   "metadata": {},
   "outputs": [],
   "source": [
    "from sklearn.model_selection import train_test_split\n",
    "X_train, X_test, y_train, y_test = train_test_split(X, y, test_size = 0.3)"
   ]
  },
  {
   "cell_type": "code",
   "execution_count": 323,
   "metadata": {},
   "outputs": [
    {
     "data": {
      "text/plain": [
       "SVR(kernel='linear')"
      ]
     },
     "execution_count": 323,
     "metadata": {},
     "output_type": "execute_result"
    }
   ],
   "source": [
    "# Support Vector Regression with linear kernel\n",
    "model = SVR(kernel = 'linear')\n",
    "model.fit(X_train,np.ravel(y_train))"
   ]
  },
  {
   "cell_type": "code",
   "execution_count": 324,
   "metadata": {},
   "outputs": [
    {
     "data": {
      "text/plain": [
       "0.12198961849489998"
      ]
     },
     "execution_count": 324,
     "metadata": {},
     "output_type": "execute_result"
    }
   ],
   "source": [
    "model.score(X_train, np.ravel(y_train))"
   ]
  },
  {
   "cell_type": "code",
   "execution_count": 325,
   "metadata": {},
   "outputs": [
    {
     "name": "stdout",
     "output_type": "stream",
     "text": [
      "The best parameters are {'C': 1.0, 'gamma': 0.01} with a score of 0.07\n"
     ]
    }
   ],
   "source": [
    "C_range = 10. ** np.arange(-3, 8)\n",
    "gamma_range = 10. ** np.arange(-5, 4)\n",
    "\n",
    "param_grid = dict(gamma=gamma_range, C=C_range)\n",
    "\n",
    "cv = StratifiedShuffleSplit(n_splits=10, test_size=0.3, random_state=42)\n",
    "grid = GridSearchCV(SVR(), param_grid=param_grid, cv=cv)\n",
    "grid.fit(X, np.ravel(y,order=\"a\"))\n",
    "\n",
    "print(\"The best parameters are %s with a score of %0.2f\"\n",
    "     % (grid.best_params_, grid.best_score_))"
   ]
  },
  {
   "cell_type": "code",
   "execution_count": 331,
   "metadata": {},
   "outputs": [
    {
     "data": {
      "text/plain": [
       "SVR(gamma=0.01)"
      ]
     },
     "execution_count": 331,
     "metadata": {},
     "output_type": "execute_result"
    }
   ],
   "source": [
    "# Support Vector Regression with Radial Basis Function kernel\n",
    "regressor = SVR(kernel='rbf', gamma=0.01)\n",
    "regressor.fit(X,np.ravel(y,order=\"c\"))"
   ]
  },
  {
   "cell_type": "code",
   "execution_count": 332,
   "metadata": {},
   "outputs": [],
   "source": [
    "y_pred = regressor.predict(X_test)\n",
    "y_pred = sc_y.inverse_transform(y_pred)"
   ]
  },
  {
   "cell_type": "code",
   "execution_count": 333,
   "metadata": {},
   "outputs": [
    {
     "data": {
      "text/html": [
       "<div>\n",
       "<style scoped>\n",
       "    .dataframe tbody tr th:only-of-type {\n",
       "        vertical-align: middle;\n",
       "    }\n",
       "\n",
       "    .dataframe tbody tr th {\n",
       "        vertical-align: top;\n",
       "    }\n",
       "\n",
       "    .dataframe thead th {\n",
       "        text-align: right;\n",
       "    }\n",
       "</style>\n",
       "<table border=\"1\" class=\"dataframe\">\n",
       "  <thead>\n",
       "    <tr style=\"text-align: right;\">\n",
       "      <th></th>\n",
       "      <th>Real Values</th>\n",
       "      <th>Predicted Values</th>\n",
       "    </tr>\n",
       "  </thead>\n",
       "  <tbody>\n",
       "    <tr>\n",
       "      <th>0</th>\n",
       "      <td>89.0</td>\n",
       "      <td>87.923816</td>\n",
       "    </tr>\n",
       "    <tr>\n",
       "      <th>1</th>\n",
       "      <td>90.0</td>\n",
       "      <td>90.505740</td>\n",
       "    </tr>\n",
       "    <tr>\n",
       "      <th>2</th>\n",
       "      <td>89.0</td>\n",
       "      <td>88.211937</td>\n",
       "    </tr>\n",
       "    <tr>\n",
       "      <th>3</th>\n",
       "      <td>87.0</td>\n",
       "      <td>89.687750</td>\n",
       "    </tr>\n",
       "    <tr>\n",
       "      <th>4</th>\n",
       "      <td>85.0</td>\n",
       "      <td>89.695510</td>\n",
       "    </tr>\n",
       "    <tr>\n",
       "      <th>...</th>\n",
       "      <td>...</td>\n",
       "      <td>...</td>\n",
       "    </tr>\n",
       "    <tr>\n",
       "      <th>394</th>\n",
       "      <td>90.0</td>\n",
       "      <td>88.948667</td>\n",
       "    </tr>\n",
       "    <tr>\n",
       "      <th>395</th>\n",
       "      <td>88.0</td>\n",
       "      <td>88.305214</td>\n",
       "    </tr>\n",
       "    <tr>\n",
       "      <th>396</th>\n",
       "      <td>90.0</td>\n",
       "      <td>89.631700</td>\n",
       "    </tr>\n",
       "    <tr>\n",
       "      <th>397</th>\n",
       "      <td>91.0</td>\n",
       "      <td>89.594760</td>\n",
       "    </tr>\n",
       "    <tr>\n",
       "      <th>398</th>\n",
       "      <td>86.0</td>\n",
       "      <td>89.434754</td>\n",
       "    </tr>\n",
       "  </tbody>\n",
       "</table>\n",
       "<p>399 rows × 2 columns</p>\n",
       "</div>"
      ],
      "text/plain": [
       "     Real Values  Predicted Values\n",
       "0           89.0         87.923816\n",
       "1           90.0         90.505740\n",
       "2           89.0         88.211937\n",
       "3           87.0         89.687750\n",
       "4           85.0         89.695510\n",
       "..           ...               ...\n",
       "394         90.0         88.948667\n",
       "395         88.0         88.305214\n",
       "396         90.0         89.631700\n",
       "397         91.0         89.594760\n",
       "398         86.0         89.434754\n",
       "\n",
       "[399 rows x 2 columns]"
      ]
     },
     "execution_count": 333,
     "metadata": {},
     "output_type": "execute_result"
    }
   ],
   "source": [
    "df = pd.DataFrame({'Real Values':sc_y.inverse_transform(y_test.reshape(-1)), 'Predicted Values':y_pred})\n",
    "df"
   ]
  },
  {
   "cell_type": "code",
   "execution_count": 334,
   "metadata": {},
   "outputs": [
    {
     "name": "stdout",
     "output_type": "stream",
     "text": [
      "Training Score: 0.15506920508266164\n",
      "Testing Score: 0.172151546250227\n"
     ]
    }
   ],
   "source": [
    "training_score = regressor.score(X_train, y_train)\n",
    "testing_score = regressor.score(X_test, y_test)\n",
    "\n",
    "print(f\"Training Score: {training_score}\")\n",
    "print(f\"Testing Score: {testing_score}\")"
   ]
  },
  {
   "cell_type": "code",
   "execution_count": 335,
   "metadata": {},
   "outputs": [
    {
     "name": "stdout",
     "output_type": "stream",
     "text": [
      "2.2024567815312475\n"
     ]
    }
   ],
   "source": [
    "countTot=0\n",
    "rowCount=0\n",
    "for index, row in df.iterrows():\n",
    "    countTot+=abs(row['Predicted Values']-row['Real Values'])\n",
    "    rowCount+=1\n",
    "print(countTot/rowCount)"
   ]
  },
  {
   "cell_type": "code",
   "execution_count": 337,
   "metadata": {},
   "outputs": [],
   "source": [
    "def classify(model, X, y):\n",
    "    X_train, X_test, y_train, y_test = train_test_split(X, y, test_size=0.3, random_state=42)\n",
    "\n",
    "    # train the model\n",
    "    model.fit(X_train, y_train)\n",
    "    training_score = model.score(X_train, y_train)\n",
    "    testing_score = model.score(X_test, y_test)\n",
    "    \n",
    "    y_pred = model.predict(X_test)\n",
    "    \n",
    "\n",
    "    print(f\"Training Score: {training_score}\")\n",
    "    print(f\"Testing Score: {testing_score}\")"
   ]
  },
  {
   "cell_type": "code",
   "execution_count": 338,
   "metadata": {},
   "outputs": [],
   "source": [
    "from sklearn import preprocessing\n",
    "from sklearn import utils\n",
    "\n",
    "lab_enc = preprocessing.LabelEncoder()\n",
    "encoded = lab_enc.fit_transform(np.ravel(y, order=\"c\"))"
   ]
  },
  {
   "cell_type": "code",
   "execution_count": 339,
   "metadata": {},
   "outputs": [
    {
     "name": "stdout",
     "output_type": "stream",
     "text": [
      "Training Score: 0.23814655172413793\n",
      "Testing Score: 0.13533834586466165\n"
     ]
    },
    {
     "name": "stderr",
     "output_type": "stream",
     "text": [
      "C:\\Users\\katty\\Anaconda3\\envs\\PythonData\\lib\\site-packages\\sklearn\\linear_model\\_logistic.py:765: ConvergenceWarning: lbfgs failed to converge (status=1):\n",
      "STOP: TOTAL NO. of ITERATIONS REACHED LIMIT.\n",
      "\n",
      "Increase the number of iterations (max_iter) or scale the data as shown in:\n",
      "    https://scikit-learn.org/stable/modules/preprocessing.html\n",
      "Please also refer to the documentation for alternative solver options:\n",
      "    https://scikit-learn.org/stable/modules/linear_model.html#logistic-regression\n",
      "  extra_warning_msg=_LOGISTIC_SOLVER_CONVERGENCE_MSG)\n"
     ]
    }
   ],
   "source": [
    "from sklearn.linear_model import LogisticRegression\n",
    "model = LogisticRegression()\n",
    "classify(model, X, encoded)"
   ]
  },
  {
   "cell_type": "code",
   "execution_count": 340,
   "metadata": {},
   "outputs": [
    {
     "name": "stdout",
     "output_type": "stream",
     "text": [
      "Training Score: 0.3933189655172414\n",
      "Testing Score: 0.12531328320802004\n"
     ]
    }
   ],
   "source": [
    "from sklearn.tree import DecisionTreeClassifier\n",
    "model = DecisionTreeClassifier()\n",
    "classify(model, X, encoded)"
   ]
  },
  {
   "cell_type": "code",
   "execution_count": 341,
   "metadata": {},
   "outputs": [
    {
     "name": "stdout",
     "output_type": "stream",
     "text": [
      "Training Score: 0.3933189655172414\n",
      "Testing Score: 0.14035087719298245\n"
     ]
    }
   ],
   "source": [
    "from sklearn.ensemble import RandomForestClassifier\n",
    "model = RandomForestClassifier()\n",
    "classify(model, X, encoded)"
   ]
  },
  {
   "cell_type": "code",
   "execution_count": 342,
   "metadata": {},
   "outputs": [
    {
     "name": "stdout",
     "output_type": "stream",
     "text": [
      "Training Score: 0.3933189655172414\n",
      "Testing Score: 0.12280701754385964\n"
     ]
    }
   ],
   "source": [
    "import lightgbm \n",
    "model = lightgbm.LGBMClassifier()\n",
    "classify(model, X, encoded)"
   ]
  },
  {
   "cell_type": "code",
   "execution_count": null,
   "metadata": {},
   "outputs": [],
   "source": []
  }
 ],
 "metadata": {
  "kernelspec": {
   "display_name": "Python [conda env:pythondata] *",
   "language": "python",
   "name": "conda-env-pythondata-py"
  },
  "language_info": {
   "codemirror_mode": {
    "name": "ipython",
    "version": 3
   },
   "file_extension": ".py",
   "mimetype": "text/x-python",
   "name": "python",
   "nbconvert_exporter": "python",
   "pygments_lexer": "ipython3",
   "version": "3.7.1"
  },
  "toc": {
   "base_numbering": 1,
   "nav_menu": {},
   "number_sections": true,
   "sideBar": true,
   "skip_h1_title": false,
   "title_cell": "Table of Contents",
   "title_sidebar": "Contents",
   "toc_cell": false,
   "toc_position": {},
   "toc_section_display": true,
   "toc_window_display": false
  }
 },
 "nbformat": 4,
 "nbformat_minor": 4
}
