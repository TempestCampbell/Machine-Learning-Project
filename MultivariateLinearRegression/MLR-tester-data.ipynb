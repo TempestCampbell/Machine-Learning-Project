{
 "cells": [
  {
   "cell_type": "code",
   "execution_count": 1,
   "metadata": {},
   "outputs": [],
   "source": [
    "# Set the seed value for the notebook so the results are reproducible\n",
    "from numpy.random import seed\n",
    "seed(1)"
   ]
  },
  {
   "cell_type": "code",
   "execution_count": 2,
   "metadata": {},
   "outputs": [],
   "source": [
    "# Dependencies\n",
    "import pandas as pd \n",
    "from sklearn.model_selection import train_test_split \n",
    "from sklearn.linear_model import LinearRegression \n",
    "from sklearn import metrics \n",
    "import matplotlib.pyplot as plt \n",
    "import numpy as np\n",
    "import seaborn as sns"
   ]
  },
  {
   "cell_type": "code",
   "execution_count": 3,
   "metadata": {},
   "outputs": [
    {
     "data": {
      "text/plain": [
       "'2.4.0'"
      ]
     },
     "execution_count": 3,
     "metadata": {},
     "output_type": "execute_result"
    }
   ],
   "source": [
    "import tensorflow\n",
    "tensorflow.keras.__version__"
   ]
  },
  {
   "cell_type": "code",
   "execution_count": 4,
   "metadata": {},
   "outputs": [
    {
     "data": {
      "text/html": [
       "<div>\n",
       "<style scoped>\n",
       "    .dataframe tbody tr th:only-of-type {\n",
       "        vertical-align: middle;\n",
       "    }\n",
       "\n",
       "    .dataframe tbody tr th {\n",
       "        vertical-align: top;\n",
       "    }\n",
       "\n",
       "    .dataframe thead th {\n",
       "        text-align: right;\n",
       "    }\n",
       "</style>\n",
       "<table border=\"1\" class=\"dataframe\">\n",
       "  <thead>\n",
       "    <tr style=\"text-align: right;\">\n",
       "      <th></th>\n",
       "      <th>Unnamed: 0</th>\n",
       "      <th>winery</th>\n",
       "      <th>vintage</th>\n",
       "      <th>points</th>\n",
       "      <th>cities</th>\n",
       "      <th>MarchLowTemp</th>\n",
       "      <th>MarchHighTemp</th>\n",
       "      <th>MarchAvgTemp</th>\n",
       "      <th>MarchPrecip</th>\n",
       "      <th>MarchCloudiness</th>\n",
       "      <th>...</th>\n",
       "      <th>JulyAvgTemp</th>\n",
       "      <th>JulyPrecip</th>\n",
       "      <th>JulyCloudiness</th>\n",
       "      <th>JulyHumidity</th>\n",
       "      <th>AugLowTemp</th>\n",
       "      <th>AugHighTemp</th>\n",
       "      <th>AugAvgTemp</th>\n",
       "      <th>AugPrecip</th>\n",
       "      <th>AugCloudiness</th>\n",
       "      <th>AugHumidity</th>\n",
       "    </tr>\n",
       "  </thead>\n",
       "  <tbody>\n",
       "    <tr>\n",
       "      <th>0</th>\n",
       "      <td>5</td>\n",
       "      <td>Iron Horse</td>\n",
       "      <td>2009</td>\n",
       "      <td>91</td>\n",
       "      <td>Sebastopol</td>\n",
       "      <td>49.903226</td>\n",
       "      <td>71.322581</td>\n",
       "      <td>63.258065</td>\n",
       "      <td>2.3</td>\n",
       "      <td>46.354839</td>\n",
       "      <td>...</td>\n",
       "      <td>47.129032</td>\n",
       "      <td>4.2</td>\n",
       "      <td>69.258065</td>\n",
       "      <td>87.322581</td>\n",
       "      <td>41.483871</td>\n",
       "      <td>55.516129</td>\n",
       "      <td>50.225806</td>\n",
       "      <td>5.1</td>\n",
       "      <td>67.419355</td>\n",
       "      <td>81.774194</td>\n",
       "    </tr>\n",
       "    <tr>\n",
       "      <th>1</th>\n",
       "      <td>6</td>\n",
       "      <td>Novy</td>\n",
       "      <td>2009</td>\n",
       "      <td>87</td>\n",
       "      <td>Healdsburg</td>\n",
       "      <td>41.548387</td>\n",
       "      <td>60.677419</td>\n",
       "      <td>53.193548</td>\n",
       "      <td>5.7</td>\n",
       "      <td>26.129032</td>\n",
       "      <td>...</td>\n",
       "      <td>75.903226</td>\n",
       "      <td>0.0</td>\n",
       "      <td>2.580645</td>\n",
       "      <td>52.064516</td>\n",
       "      <td>55.451613</td>\n",
       "      <td>82.838710</td>\n",
       "      <td>73.935484</td>\n",
       "      <td>0.1</td>\n",
       "      <td>4.967742</td>\n",
       "      <td>54.612903</td>\n",
       "    </tr>\n",
       "    <tr>\n",
       "      <th>2</th>\n",
       "      <td>7</td>\n",
       "      <td>Iron Horse</td>\n",
       "      <td>2010</td>\n",
       "      <td>92</td>\n",
       "      <td>Sebastopol</td>\n",
       "      <td>52.935484</td>\n",
       "      <td>72.419355</td>\n",
       "      <td>64.903226</td>\n",
       "      <td>5.5</td>\n",
       "      <td>42.741935</td>\n",
       "      <td>...</td>\n",
       "      <td>46.677419</td>\n",
       "      <td>1.9</td>\n",
       "      <td>74.161290</td>\n",
       "      <td>90.483871</td>\n",
       "      <td>36.548387</td>\n",
       "      <td>50.032258</td>\n",
       "      <td>44.806452</td>\n",
       "      <td>7.8</td>\n",
       "      <td>79.741935</td>\n",
       "      <td>91.290323</td>\n",
       "    </tr>\n",
       "    <tr>\n",
       "      <th>3</th>\n",
       "      <td>8</td>\n",
       "      <td>Iron Horse</td>\n",
       "      <td>2011</td>\n",
       "      <td>91</td>\n",
       "      <td>Sebastopol</td>\n",
       "      <td>50.806452</td>\n",
       "      <td>68.451613</td>\n",
       "      <td>61.677419</td>\n",
       "      <td>2.7</td>\n",
       "      <td>56.064516</td>\n",
       "      <td>...</td>\n",
       "      <td>46.225806</td>\n",
       "      <td>1.5</td>\n",
       "      <td>75.258065</td>\n",
       "      <td>90.096774</td>\n",
       "      <td>39.774194</td>\n",
       "      <td>56.580645</td>\n",
       "      <td>50.258065</td>\n",
       "      <td>4.2</td>\n",
       "      <td>65.741935</td>\n",
       "      <td>86.258065</td>\n",
       "    </tr>\n",
       "    <tr>\n",
       "      <th>4</th>\n",
       "      <td>9</td>\n",
       "      <td>River Road</td>\n",
       "      <td>2011</td>\n",
       "      <td>84</td>\n",
       "      <td>Guttenberg</td>\n",
       "      <td>32.451613</td>\n",
       "      <td>44.290323</td>\n",
       "      <td>39.580645</td>\n",
       "      <td>8.6</td>\n",
       "      <td>40.838710</td>\n",
       "      <td>...</td>\n",
       "      <td>79.354839</td>\n",
       "      <td>6.6</td>\n",
       "      <td>20.387097</td>\n",
       "      <td>77.645161</td>\n",
       "      <td>67.225806</td>\n",
       "      <td>80.935484</td>\n",
       "      <td>75.419355</td>\n",
       "      <td>18.6</td>\n",
       "      <td>24.741935</td>\n",
       "      <td>79.451613</td>\n",
       "    </tr>\n",
       "  </tbody>\n",
       "</table>\n",
       "<p>5 rows × 41 columns</p>\n",
       "</div>"
      ],
      "text/plain": [
       "   Unnamed: 0      winery  vintage  points      cities  MarchLowTemp  \\\n",
       "0           5  Iron Horse     2009      91  Sebastopol     49.903226   \n",
       "1           6        Novy     2009      87  Healdsburg     41.548387   \n",
       "2           7  Iron Horse     2010      92  Sebastopol     52.935484   \n",
       "3           8  Iron Horse     2011      91  Sebastopol     50.806452   \n",
       "4           9  River Road     2011      84  Guttenberg     32.451613   \n",
       "\n",
       "   MarchHighTemp  MarchAvgTemp  MarchPrecip  MarchCloudiness  ...  \\\n",
       "0      71.322581     63.258065          2.3        46.354839  ...   \n",
       "1      60.677419     53.193548          5.7        26.129032  ...   \n",
       "2      72.419355     64.903226          5.5        42.741935  ...   \n",
       "3      68.451613     61.677419          2.7        56.064516  ...   \n",
       "4      44.290323     39.580645          8.6        40.838710  ...   \n",
       "\n",
       "   JulyAvgTemp  JulyPrecip  JulyCloudiness  JulyHumidity  AugLowTemp  \\\n",
       "0    47.129032         4.2       69.258065     87.322581   41.483871   \n",
       "1    75.903226         0.0        2.580645     52.064516   55.451613   \n",
       "2    46.677419         1.9       74.161290     90.483871   36.548387   \n",
       "3    46.225806         1.5       75.258065     90.096774   39.774194   \n",
       "4    79.354839         6.6       20.387097     77.645161   67.225806   \n",
       "\n",
       "   AugHighTemp  AugAvgTemp  AugPrecip  AugCloudiness  AugHumidity  \n",
       "0    55.516129   50.225806        5.1      67.419355    81.774194  \n",
       "1    82.838710   73.935484        0.1       4.967742    54.612903  \n",
       "2    50.032258   44.806452        7.8      79.741935    91.290323  \n",
       "3    56.580645   50.258065        4.2      65.741935    86.258065  \n",
       "4    80.935484   75.419355       18.6      24.741935    79.451613  \n",
       "\n",
       "[5 rows x 41 columns]"
      ]
     },
     "execution_count": 4,
     "metadata": {},
     "output_type": "execute_result"
    }
   ],
   "source": [
    "weather = pd.read_csv('../sonomavalley.csv')\n",
    "weather.head()"
   ]
  },
  {
   "cell_type": "code",
   "execution_count": 5,
   "metadata": {},
   "outputs": [
    {
     "data": {
      "text/html": [
       "<div>\n",
       "<style scoped>\n",
       "    .dataframe tbody tr th:only-of-type {\n",
       "        vertical-align: middle;\n",
       "    }\n",
       "\n",
       "    .dataframe tbody tr th {\n",
       "        vertical-align: top;\n",
       "    }\n",
       "\n",
       "    .dataframe thead th {\n",
       "        text-align: right;\n",
       "    }\n",
       "</style>\n",
       "<table border=\"1\" class=\"dataframe\">\n",
       "  <thead>\n",
       "    <tr style=\"text-align: right;\">\n",
       "      <th></th>\n",
       "      <th>winery</th>\n",
       "      <th>vintage</th>\n",
       "      <th>points</th>\n",
       "      <th>cities</th>\n",
       "      <th>MarchLowTemp</th>\n",
       "      <th>MarchHighTemp</th>\n",
       "      <th>MarchAvgTemp</th>\n",
       "      <th>MarchPrecip</th>\n",
       "      <th>MarchCloudiness</th>\n",
       "      <th>MarchHumidity</th>\n",
       "      <th>...</th>\n",
       "      <th>JulyAvgTemp</th>\n",
       "      <th>JulyPrecip</th>\n",
       "      <th>JulyCloudiness</th>\n",
       "      <th>JulyHumidity</th>\n",
       "      <th>AugLowTemp</th>\n",
       "      <th>AugHighTemp</th>\n",
       "      <th>AugAvgTemp</th>\n",
       "      <th>AugPrecip</th>\n",
       "      <th>AugCloudiness</th>\n",
       "      <th>AugHumidity</th>\n",
       "    </tr>\n",
       "  </thead>\n",
       "  <tbody>\n",
       "    <tr>\n",
       "      <th>0</th>\n",
       "      <td>Iron Horse</td>\n",
       "      <td>2009</td>\n",
       "      <td>91</td>\n",
       "      <td>Sebastopol</td>\n",
       "      <td>49.903226</td>\n",
       "      <td>71.322581</td>\n",
       "      <td>63.258065</td>\n",
       "      <td>2.3</td>\n",
       "      <td>46.354839</td>\n",
       "      <td>71.225806</td>\n",
       "      <td>...</td>\n",
       "      <td>47.129032</td>\n",
       "      <td>4.2</td>\n",
       "      <td>69.258065</td>\n",
       "      <td>87.322581</td>\n",
       "      <td>41.483871</td>\n",
       "      <td>55.516129</td>\n",
       "      <td>50.225806</td>\n",
       "      <td>5.1</td>\n",
       "      <td>67.419355</td>\n",
       "      <td>81.774194</td>\n",
       "    </tr>\n",
       "    <tr>\n",
       "      <th>1</th>\n",
       "      <td>Novy</td>\n",
       "      <td>2009</td>\n",
       "      <td>87</td>\n",
       "      <td>Healdsburg</td>\n",
       "      <td>41.548387</td>\n",
       "      <td>60.677419</td>\n",
       "      <td>53.193548</td>\n",
       "      <td>5.7</td>\n",
       "      <td>26.129032</td>\n",
       "      <td>70.935484</td>\n",
       "      <td>...</td>\n",
       "      <td>75.903226</td>\n",
       "      <td>0.0</td>\n",
       "      <td>2.580645</td>\n",
       "      <td>52.064516</td>\n",
       "      <td>55.451613</td>\n",
       "      <td>82.838710</td>\n",
       "      <td>73.935484</td>\n",
       "      <td>0.1</td>\n",
       "      <td>4.967742</td>\n",
       "      <td>54.612903</td>\n",
       "    </tr>\n",
       "    <tr>\n",
       "      <th>2</th>\n",
       "      <td>Iron Horse</td>\n",
       "      <td>2010</td>\n",
       "      <td>92</td>\n",
       "      <td>Sebastopol</td>\n",
       "      <td>52.935484</td>\n",
       "      <td>72.419355</td>\n",
       "      <td>64.903226</td>\n",
       "      <td>5.5</td>\n",
       "      <td>42.741935</td>\n",
       "      <td>72.870968</td>\n",
       "      <td>...</td>\n",
       "      <td>46.677419</td>\n",
       "      <td>1.9</td>\n",
       "      <td>74.161290</td>\n",
       "      <td>90.483871</td>\n",
       "      <td>36.548387</td>\n",
       "      <td>50.032258</td>\n",
       "      <td>44.806452</td>\n",
       "      <td>7.8</td>\n",
       "      <td>79.741935</td>\n",
       "      <td>91.290323</td>\n",
       "    </tr>\n",
       "    <tr>\n",
       "      <th>3</th>\n",
       "      <td>Iron Horse</td>\n",
       "      <td>2011</td>\n",
       "      <td>91</td>\n",
       "      <td>Sebastopol</td>\n",
       "      <td>50.806452</td>\n",
       "      <td>68.451613</td>\n",
       "      <td>61.677419</td>\n",
       "      <td>2.7</td>\n",
       "      <td>56.064516</td>\n",
       "      <td>79.483871</td>\n",
       "      <td>...</td>\n",
       "      <td>46.225806</td>\n",
       "      <td>1.5</td>\n",
       "      <td>75.258065</td>\n",
       "      <td>90.096774</td>\n",
       "      <td>39.774194</td>\n",
       "      <td>56.580645</td>\n",
       "      <td>50.258065</td>\n",
       "      <td>4.2</td>\n",
       "      <td>65.741935</td>\n",
       "      <td>86.258065</td>\n",
       "    </tr>\n",
       "    <tr>\n",
       "      <th>4</th>\n",
       "      <td>River Road</td>\n",
       "      <td>2011</td>\n",
       "      <td>84</td>\n",
       "      <td>Guttenberg</td>\n",
       "      <td>32.451613</td>\n",
       "      <td>44.290323</td>\n",
       "      <td>39.580645</td>\n",
       "      <td>8.6</td>\n",
       "      <td>40.838710</td>\n",
       "      <td>78.548387</td>\n",
       "      <td>...</td>\n",
       "      <td>79.354839</td>\n",
       "      <td>6.6</td>\n",
       "      <td>20.387097</td>\n",
       "      <td>77.645161</td>\n",
       "      <td>67.225806</td>\n",
       "      <td>80.935484</td>\n",
       "      <td>75.419355</td>\n",
       "      <td>18.6</td>\n",
       "      <td>24.741935</td>\n",
       "      <td>79.451613</td>\n",
       "    </tr>\n",
       "  </tbody>\n",
       "</table>\n",
       "<p>5 rows × 40 columns</p>\n",
       "</div>"
      ],
      "text/plain": [
       "       winery  vintage  points      cities  MarchLowTemp  MarchHighTemp  \\\n",
       "0  Iron Horse     2009      91  Sebastopol     49.903226      71.322581   \n",
       "1        Novy     2009      87  Healdsburg     41.548387      60.677419   \n",
       "2  Iron Horse     2010      92  Sebastopol     52.935484      72.419355   \n",
       "3  Iron Horse     2011      91  Sebastopol     50.806452      68.451613   \n",
       "4  River Road     2011      84  Guttenberg     32.451613      44.290323   \n",
       "\n",
       "   MarchAvgTemp  MarchPrecip  MarchCloudiness  MarchHumidity  ...  \\\n",
       "0     63.258065          2.3        46.354839      71.225806  ...   \n",
       "1     53.193548          5.7        26.129032      70.935484  ...   \n",
       "2     64.903226          5.5        42.741935      72.870968  ...   \n",
       "3     61.677419          2.7        56.064516      79.483871  ...   \n",
       "4     39.580645          8.6        40.838710      78.548387  ...   \n",
       "\n",
       "   JulyAvgTemp  JulyPrecip  JulyCloudiness  JulyHumidity  AugLowTemp  \\\n",
       "0    47.129032         4.2       69.258065     87.322581   41.483871   \n",
       "1    75.903226         0.0        2.580645     52.064516   55.451613   \n",
       "2    46.677419         1.9       74.161290     90.483871   36.548387   \n",
       "3    46.225806         1.5       75.258065     90.096774   39.774194   \n",
       "4    79.354839         6.6       20.387097     77.645161   67.225806   \n",
       "\n",
       "   AugHighTemp  AugAvgTemp  AugPrecip  AugCloudiness  AugHumidity  \n",
       "0    55.516129   50.225806        5.1      67.419355    81.774194  \n",
       "1    82.838710   73.935484        0.1       4.967742    54.612903  \n",
       "2    50.032258   44.806452        7.8      79.741935    91.290323  \n",
       "3    56.580645   50.258065        4.2      65.741935    86.258065  \n",
       "4    80.935484   75.419355       18.6      24.741935    79.451613  \n",
       "\n",
       "[5 rows x 40 columns]"
      ]
     },
     "execution_count": 5,
     "metadata": {},
     "output_type": "execute_result"
    }
   ],
   "source": [
    "weatherClean=weather.drop(\"Unnamed: 0\", axis=1)\n",
    "weatherClean.head()"
   ]
  },
  {
   "cell_type": "code",
   "execution_count": 6,
   "metadata": {},
   "outputs": [],
   "source": [
    "# Data Pre-Processing"
   ]
  },
  {
   "cell_type": "code",
   "execution_count": 7,
   "metadata": {
    "scrolled": true
   },
   "outputs": [
    {
     "data": {
      "text/plain": [
       "Index(['winery', 'vintage', 'points', 'cities', 'MarchLowTemp',\n",
       "       'MarchHighTemp', 'MarchAvgTemp', 'MarchPrecip', 'MarchCloudiness',\n",
       "       'MarchHumidity', 'AprilLowTemp', 'AprilHighTemp', 'AprilAvgTemp',\n",
       "       'AprilPrecip', 'AprilCloudiness', 'AprilHumidity', 'MayLowTemp',\n",
       "       'MayHighTemp', 'MayAvgTemp', 'MayPrecip', 'MayCloudiness',\n",
       "       'MayHumidity', 'JuneLowTemp', 'JuneHighTemp', 'JuneAvgTemp',\n",
       "       'JunePrecip', 'JuneCloudiness', 'JuneHumidity', 'JulyLowTemp',\n",
       "       'JulyHighTemp', 'JulyAvgTemp', 'JulyPrecip', 'JulyCloudiness',\n",
       "       'JulyHumidity', 'AugLowTemp', 'AugHighTemp', 'AugAvgTemp', 'AugPrecip',\n",
       "       'AugCloudiness', 'AugHumidity'],\n",
       "      dtype='object')"
      ]
     },
     "execution_count": 7,
     "metadata": {},
     "output_type": "execute_result"
    }
   ],
   "source": [
    "weatherClean.columns"
   ]
  },
  {
   "cell_type": "code",
   "execution_count": 8,
   "metadata": {},
   "outputs": [],
   "source": [
    "weatherCleandf = weatherClean.drop(['winery', 'vintage', 'cities'], axis=1)"
   ]
  },
  {
   "cell_type": "code",
   "execution_count": 9,
   "metadata": {},
   "outputs": [
    {
     "name": "stdout",
     "output_type": "stream",
     "text": [
      "MarchLowTemp       0.267432\n",
      "MarchHighTemp      0.326344\n",
      "MarchAvgTemp       0.315861\n",
      "MarchPrecip       -0.641284\n",
      "MarchCloudiness    0.113542\n",
      "MarchHumidity     -0.077603\n",
      "AprilLowTemp       0.109521\n",
      "AprilHighTemp      0.156651\n",
      "AprilAvgTemp       0.136840\n",
      "AprilPrecip       -0.467928\n",
      "AprilCloudiness    0.085131\n",
      "AprilHumidity     -0.001695\n",
      "MayLowTemp        -0.177539\n",
      "MayHighTemp       -0.281165\n",
      "MayAvgTemp        -0.271262\n",
      "MayPrecip         -0.231374\n",
      "MayCloudiness      0.245155\n",
      "MayHumidity        0.220177\n",
      "JuneLowTemp       -0.322015\n",
      "JuneHighTemp      -0.422658\n",
      "JuneAvgTemp       -0.414925\n",
      "JunePrecip         0.122181\n",
      "JuneCloudiness     0.406817\n",
      "JuneHumidity       0.400452\n",
      "JulyLowTemp       -0.412540\n",
      "JulyHighTemp      -0.524959\n",
      "JulyAvgTemp       -0.508712\n",
      "JulyPrecip        -0.049325\n",
      "JulyCloudiness     0.481854\n",
      "JulyHumidity       0.548563\n",
      "AugLowTemp        -0.373230\n",
      "AugHighTemp       -0.494952\n",
      "AugAvgTemp        -0.462123\n",
      "AugPrecip         -0.382850\n",
      "AugCloudiness      0.420231\n",
      "AugHumidity        0.478533\n",
      "Name: points, dtype: float64\n"
     ]
    }
   ],
   "source": [
    "# Given the set of values for features, we have to predict the quality of wine. \n",
    "# Find correlation of each feature with our target variable 'points'\n",
    "\n",
    "correlations = weatherCleandf.corr()['points'].drop('points')\n",
    "print(correlations)"
   ]
  },
  {
   "cell_type": "code",
   "execution_count": 10,
   "metadata": {},
   "outputs": [],
   "source": [
    "X = weatherCleandf.drop(['points'], axis=1)\n",
    "y = weatherCleandf['points']"
   ]
  },
  {
   "cell_type": "code",
   "execution_count": 11,
   "metadata": {},
   "outputs": [],
   "source": [
    "X_train, X_test, y_train, y_test = train_test_split(\n",
    "    X, y, random_state=42)"
   ]
  },
  {
   "cell_type": "code",
   "execution_count": 12,
   "metadata": {},
   "outputs": [
    {
     "name": "stdout",
     "output_type": "stream",
     "text": [
      "[-0.01914649 -0.00840086  0.00656432 -0.04100808 -0.00438906 -0.07672672\n",
      "  0.02201655  0.06413481 -0.03641123 -0.00075927 -0.09859359 -0.0498596\n",
      " -0.01587847 -0.02227443 -0.02292732 -0.01983146 -0.07571643  0.0232367\n",
      "  0.05942027  0.00181828 -0.02898197  0.0313035  -0.06385041  0.02900266\n",
      " -0.05610665  0.01230164 -0.03804265  0.00248082  0.09538588 -0.0400729\n",
      " -0.04057001  0.02333685  0.00943638 -0.05422943  0.05644255  0.07112111]\n"
     ]
    }
   ],
   "source": [
    "# Fit linear regression to training data\n",
    "model = LinearRegression()\n",
    "model.fit(X_train,y_train)\n",
    "  \n",
    "# This gives the coefficients of the features selected above.  \n",
    "print(model.coef_)"
   ]
  },
  {
   "cell_type": "code",
   "execution_count": 13,
   "metadata": {},
   "outputs": [
    {
     "name": "stdout",
     "output_type": "stream",
     "text": [
      "Training Score: 1.0\n",
      "Testing Score: -0.06724700942038919\n"
     ]
    }
   ],
   "source": [
    "training_score = model.score(X_train, y_train)\n",
    "testing_score = model.score(X_test, y_test)\n",
    "\n",
    "print(f\"Training Score: {training_score}\")\n",
    "print(f\"Testing Score: {testing_score}\")"
   ]
  },
  {
   "cell_type": "code",
   "execution_count": 15,
   "metadata": {},
   "outputs": [
    {
     "data": {
      "text/plain": [
       "Text(0.5, 1.0, 'Residual Plot')"
      ]
     },
     "execution_count": 15,
     "metadata": {},
     "output_type": "execute_result"
    },
    {
     "data": {
      "image/png": "[encoded data removed]",
      "text/plain": [
       "<Figure size 432x288 with 1 Axes>"
      ]
     },
     "metadata": {
      "needs_background": "light"
     },
     "output_type": "display_data"
    }
   ],
   "source": [
    "# Plot the Residuals for the Training and Testing data\n",
    "\n",
    "plt.scatter(model.predict(X_train), model.predict(X_train) - y_train, c=\"blue\", label=\"Training Data\")\n",
    "plt.scatter(model.predict(X_test), model.predict(X_test) - y_test, c=\"orange\", label=\"Testing Data\")\n",
    "plt.legend()\n",
    "plt.hlines(y=0, xmin=y.min(), xmax=y.max())\n",
    "plt.title(\"Residual Plot\")"
   ]
  },
  {
   "cell_type": "code",
   "execution_count": 14,
   "metadata": {},
   "outputs": [
    {
     "name": "stdout",
     "output_type": "stream",
     "text": [
      "[90. 91. 91. 92. 92. 91. 84. 93. 90. 90. 91. 92.]\n",
      "[91.71993345 89.19636951 93.54598196 88.22739207 87.64499866]\n"
     ]
    }
   ],
   "source": [
    "train_pred = model.predict(X_train)\n",
    "print(train_pred)\n",
    "test_pred = model.predict(X_test) \n",
    "print(test_pred)"
   ]
  },
  {
   "cell_type": "code",
   "execution_count": null,
   "metadata": {},
   "outputs": [],
   "source": []
  }
 ],
 "metadata": {
  "kernelspec": {
   "display_name": "Python [conda env:PythonData] *",
   "language": "python",
   "name": "conda-env-PythonData-py"
  },
  "language_info": {
   "codemirror_mode": {
    "name": "ipython",
    "version": 3
   },
   "file_extension": ".py",
   "mimetype": "text/x-python",
   "name": "python",
   "nbconvert_exporter": "python",
   "pygments_lexer": "ipython3",
   "version": "3.7.1"
  },
  "toc": {
   "base_numbering": 1,
   "nav_menu": {},
   "number_sections": true,
   "sideBar": true,
   "skip_h1_title": false,
   "title_cell": "Table of Contents",
   "title_sidebar": "Contents",
   "toc_cell": false,
   "toc_position": {},
   "toc_section_display": true,
   "toc_window_display": false
  }
 },
 "nbformat": 4,
 "nbformat_minor": 4
}
